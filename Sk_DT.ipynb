{
 "cells": [
  {
   "cell_type": "markdown",
   "id": "3b4d71b7-ebfc-46a1-85ea-56afe123d510",
   "metadata": {},
   "source": [
    "# Task 2: Decision Trees for Human Activity Recognition "
   ]
  },
  {
   "cell_type": "markdown",
   "id": "419d795a",
   "metadata": {},
   "source": [
    "## 1.Creating Decision Tree using SkLearn"
   ]
  },
  {
   "cell_type": "markdown",
   "id": "09fba768",
   "metadata": {},
   "source": [
    "### Train a decision tree model using the raw accelerometer data. Report the accuracy, precision, recall and confusion matrix of the model."
   ]
  },
  {
   "cell_type": "markdown",
   "id": "8f3a164b",
   "metadata": {},
   "source": [
    "#### Importing libraries"
   ]
  },
  {
   "cell_type": "code",
   "execution_count": 3,
   "id": "e8b9eb94-3078-4b9a-99b4-fab06396180b",
   "metadata": {},
   "outputs": [
    {
     "ename": "ModuleNotFoundError",
     "evalue": "No module named 'sklearn'",
     "output_type": "error",
     "traceback": [
      "\u001b[0;31m---------------------------------------------------------------------------\u001b[0m",
      "\u001b[0;31mModuleNotFoundError\u001b[0m                       Traceback (most recent call last)",
      "Cell \u001b[0;32mIn[3], line 1\u001b[0m\n\u001b[0;32m----> 1\u001b[0m \u001b[38;5;28;01mimport\u001b[39;00m \u001b[38;5;21;01msklearn\u001b[39;00m \u001b[38;5;28;01mas\u001b[39;00m \u001b[38;5;21;01mskl\u001b[39;00m\n\u001b[1;32m      2\u001b[0m \u001b[38;5;28;01mfrom\u001b[39;00m \u001b[38;5;21;01msklearn\u001b[39;00m \u001b[38;5;28;01mimport\u001b[39;00m tree\n\u001b[1;32m      3\u001b[0m \u001b[38;5;28;01mfrom\u001b[39;00m \u001b[38;5;21;01msklearn\u001b[39;00m\u001b[38;5;21;01m.\u001b[39;00m\u001b[38;5;21;01mpreprocessing\u001b[39;00m \u001b[38;5;28;01mimport\u001b[39;00m StandardScaler\n",
      "\u001b[0;31mModuleNotFoundError\u001b[0m: No module named 'sklearn'"
     ]
    }
   ],
   "source": [
    "import sklearn as skl\n",
    "from sklearn import tree\n",
    "from sklearn.preprocessing import StandardScaler\n",
    "from MakeDataset import X_train,X_test,y_train,y_test\n",
    "import numpy as np\n",
    "import matplotlib.pyplot as plt\n",
    "import seaborn as sns\n",
    "%config InlineBackend.figure_format = 'retina'\n",
    "%matplotlib inline\n",
    "activities=[\"Walking\",\"Walking Upstairs\",\"Walking Downstairs\",\"Sitting\",\"Standing\",\"Laying\"]\n"
   ]
  },
  {
   "cell_type": "markdown",
   "id": "2bd631b6",
   "metadata": {},
   "source": [
    "### Normalization"
   ]
  },
  {
   "cell_type": "code",
   "execution_count": null,
   "id": "d78de6e3",
   "metadata": {},
   "outputs": [
    {
     "ename": "",
     "evalue": "",
     "output_type": "error",
     "traceback": [
      "\u001b[1;31mRunning cells with 'Python 3.12.3' requires the ipykernel package.\n",
      "\u001b[1;31mRun the following command to install 'ipykernel' into the Python environment. \n",
      "\u001b[1;31mCommand: '/opt/homebrew/bin/python3 -m pip install ipykernel -U --user --force-reinstall'"
     ]
    }
   ],
   "source": [
    "def my_normalise(acc_tr,acc_te):\n",
    "    meany=np.mean(acc_tr)\n",
    "    stdy=np.std(acc_tr)\n",
    "    acc__tr_n=(acc_tr-meany)/(stdy)\n",
    "    acc_te_n=(acc_te-meany)/(stdy)\n",
    "    return acc__tr_n,acc_te_n"
   ]
  },
  {
   "cell_type": "code",
   "execution_count": null,
   "id": "95ebb6b4",
   "metadata": {},
   "outputs": [
    {
     "ename": "",
     "evalue": "",
     "output_type": "error",
     "traceback": [
      "\u001b[1;31mRunning cells with 'Python 3.12.3' requires the ipykernel package.\n",
      "\u001b[1;31mRun the following command to install 'ipykernel' into the Python environment. \n",
      "\u001b[1;31mCommand: '/opt/homebrew/bin/python3 -m pip install ipykernel -U --user --force-reinstall'"
     ]
    }
   ],
   "source": [
    "acc_x_tr=[]\n",
    "acc_y_tr=[]\n",
    "acc_z_tr=[]\n",
    "for i in range(126):\n",
    "    for j in range(500):\n",
    "        acc_x_tr.append(X_train[i][j][0])\n",
    "        acc_y_tr.append(X_train[i][j][1])\n",
    "        acc_z_tr.append(X_train[i][j][2])\n",
    "acc_x_te=[]\n",
    "acc_y_te=[]\n",
    "acc_z_te=[]\n",
    "for i in range(54):\n",
    "    for j in range(500):\n",
    "        acc_x_te.append(X_test[i][j][0])\n",
    "        acc_y_te.append(X_test[i][j][1])\n",
    "        acc_z_te.append(X_test[i][j][2])\n",
    "\n"
   ]
  },
  {
   "cell_type": "code",
   "execution_count": null,
   "id": "c6329611",
   "metadata": {},
   "outputs": [
    {
     "ename": "",
     "evalue": "",
     "output_type": "error",
     "traceback": [
      "\u001b[1;31mRunning cells with 'Python 3.12.3' requires the ipykernel package.\n",
      "\u001b[1;31mRun the following command to install 'ipykernel' into the Python environment. \n",
      "\u001b[1;31mCommand: '/opt/homebrew/bin/python3 -m pip install ipykernel -U --user --force-reinstall'"
     ]
    }
   ],
   "source": [
    "acc_x_tr_n,acc_x_te_n=my_normalise(acc_x_tr,acc_x_te)\n",
    "acc_y_tr_n,acc_y_te_n=my_normalise(acc_y_tr,acc_y_te)\n",
    "acc_z_tr_n,acc_z_te_n=my_normalise(acc_z_tr,acc_z_te)\n",
    "acc_x_tr_n=np.array(acc_x_tr_n)\n",
    "acc_y_tr_n=np.array(acc_y_tr_n)\n",
    "acc_z_tr_n=np.array(acc_z_tr_n)\n",
    "acc_x_te_n=np.array(acc_x_te_n)\n",
    "acc_y_te_n=np.array(acc_y_te_n)\n",
    "acc_z_te_n=np.array(acc_z_te_n)\n"
   ]
  },
  {
   "cell_type": "markdown",
   "id": "92c80fb6",
   "metadata": {},
   "source": [
    "Reshaping the normalised data to 3d-training data shape"
   ]
  },
  {
   "cell_type": "code",
   "execution_count": null,
   "id": "4861a90c",
   "metadata": {},
   "outputs": [
    {
     "ename": "",
     "evalue": "",
     "output_type": "error",
     "traceback": [
      "\u001b[1;31mRunning cells with 'Python 3.12.3' requires the ipykernel package.\n",
      "\u001b[1;31mRun the following command to install 'ipykernel' into the Python environment. \n",
      "\u001b[1;31mCommand: '/opt/homebrew/bin/python3 -m pip install ipykernel -U --user --force-reinstall'"
     ]
    }
   ],
   "source": [
    "stacked_tr=np.stack((acc_x_tr_n,acc_y_tr_n,acc_z_tr_n),axis=1)\n",
    "X_train_n=stacked_tr.reshape(126,500,3)\n",
    "X_train_n_rs=X_train_n.reshape(126,1500)\n",
    "stacked_te=np.stack((acc_x_te_n,acc_y_te_n,acc_z_te_n),axis=1)\n",
    "X_test_n=stacked_te.reshape(54,500,3)\n",
    "X_test_n_rs=X_test_n.reshape(54,1500)\n",
    "# print(X_train.reshape(126,1500))\n",
    "# print(X_train_n_rs)\n",
    "# print(X_test.reshape(54,1500))\n",
    "# print(X_test_n_rs)"
   ]
  },
  {
   "cell_type": "code",
   "execution_count": null,
   "id": "c9391f48",
   "metadata": {},
   "outputs": [
    {
     "ename": "",
     "evalue": "",
     "output_type": "error",
     "traceback": [
      "\u001b[1;31mRunning cells with 'Python 3.12.3' requires the ipykernel package.\n",
      "\u001b[1;31mRun the following command to install 'ipykernel' into the Python environment. \n",
      "\u001b[1;31mCommand: '/opt/homebrew/bin/python3 -m pip install ipykernel -U --user --force-reinstall'"
     ]
    }
   ],
   "source": [
    "x=X_train_n_rs\n",
    "y=y_train\n",
    "xt=X_test_n_rs"
   ]
  },
  {
   "cell_type": "markdown",
   "id": "88474cff",
   "metadata": {},
   "source": [
    "#### Using Gini"
   ]
  },
  {
   "cell_type": "markdown",
   "id": "b68c8c21",
   "metadata": {},
   "source": [
    "##### Making Decision Tree"
   ]
  },
  {
   "cell_type": "code",
   "execution_count": null,
   "id": "0d085a37",
   "metadata": {},
   "outputs": [
    {
     "ename": "",
     "evalue": "",
     "output_type": "error",
     "traceback": [
      "\u001b[1;31mRunning cells with 'Python 3.12.3' requires the ipykernel package.\n",
      "\u001b[1;31mRun the following command to install 'ipykernel' into the Python environment. \n",
      "\u001b[1;31mCommand: '/opt/homebrew/bin/python3 -m pip install ipykernel -U --user --force-reinstall'"
     ]
    }
   ],
   "source": [
    "sk_dt=tree.DecisionTreeClassifier(criterion=\"gini\",random_state=42)\n",
    "sk_dt=sk_dt.fit(x,y)\n",
    "depth=sk_dt.get_depth()\n",
    "print(\"Depth of Decision Tree:\",depth)"
   ]
  },
  {
   "cell_type": "markdown",
   "id": "853759f7",
   "metadata": {},
   "source": [
    "##### Decision Tree Plot"
   ]
  },
  {
   "cell_type": "code",
   "execution_count": null,
   "id": "38165e9e",
   "metadata": {},
   "outputs": [
    {
     "ename": "",
     "evalue": "",
     "output_type": "error",
     "traceback": [
      "\u001b[1;31mRunning cells with 'Python 3.12.3' requires the ipykernel package.\n",
      "\u001b[1;31mRun the following command to install 'ipykernel' into the Python environment. \n",
      "\u001b[1;31mCommand: '/opt/homebrew/bin/python3 -m pip install ipykernel -U --user --force-reinstall'"
     ]
    }
   ],
   "source": [
    "plt.figure(figsize=(20,10))\n",
    "tree.plot_tree(sk_dt, filled=True)\n",
    "plt.show()"
   ]
  },
  {
   "cell_type": "markdown",
   "id": "7f36f40f",
   "metadata": {},
   "source": [
    "##### Accuracy, Precision, Recall and Confusion matrix of the model."
   ]
  },
  {
   "cell_type": "code",
   "execution_count": null,
   "id": "efc0c5e4",
   "metadata": {},
   "outputs": [
    {
     "ename": "",
     "evalue": "",
     "output_type": "error",
     "traceback": [
      "\u001b[1;31mRunning cells with 'Python 3.12.3' requires the ipykernel package.\n",
      "\u001b[1;31mRun the following command to install 'ipykernel' into the Python environment. \n",
      "\u001b[1;31mCommand: '/opt/homebrew/bin/python3 -m pip install ipykernel -U --user --force-reinstall'"
     ]
    }
   ],
   "source": [
    "\n",
    "y_hat=sk_dt.predict(xt)\n",
    "a=skl.metrics.accuracy_score(y_test,y_hat)\n",
    "print(\"Accuracy : \",a)\n",
    "p=skl.metrics.precision_score(y_test,y_hat,average='macro')\n",
    "print(\"Precision : \",p)\n",
    "r=skl.metrics.recall_score(y_test,y_hat,average='macro')\n",
    "print(\"Recall : \",r)\n",
    "cm=skl.metrics.confusion_matrix(y_test,y_hat)\n",
    "plt.figure(figsize=(8, 6))\n",
    "sns.heatmap(cm, annot=True, fmt='d', cmap='Greens', xticklabels=activities, yticklabels=activities)\n",
    "plt.xticks(rotation=45)\n",
    "plt.xlabel('Predicted Label')\n",
    "plt.ylabel('True Label')\n",
    "plt.title('Confusion Matrix')\n",
    "plt.show()"
   ]
  },
  {
   "cell_type": "markdown",
   "id": "7e010b85",
   "metadata": {},
   "source": [
    "#### Using Entropy"
   ]
  },
  {
   "cell_type": "markdown",
   "id": "f10e23d0",
   "metadata": {},
   "source": [
    "##### Making Decision Tree"
   ]
  },
  {
   "cell_type": "code",
   "execution_count": null,
   "id": "d13eaca2",
   "metadata": {},
   "outputs": [
    {
     "ename": "",
     "evalue": "",
     "output_type": "error",
     "traceback": [
      "\u001b[1;31mRunning cells with 'Python 3.12.3' requires the ipykernel package.\n",
      "\u001b[1;31mRun the following command to install 'ipykernel' into the Python environment. \n",
      "\u001b[1;31mCommand: '/opt/homebrew/bin/python3 -m pip install ipykernel -U --user --force-reinstall'"
     ]
    }
   ],
   "source": [
    "sk_dt=tree.DecisionTreeClassifier(criterion=\"entropy\",random_state=42)\n",
    "sk_dt=sk_dt.fit(x,y)\n",
    "depth=sk_dt.get_depth()\n",
    "print(\"Depth of Decision Tree:\",depth)"
   ]
  },
  {
   "cell_type": "markdown",
   "id": "be495e68",
   "metadata": {},
   "source": [
    "##### Decision Tree Plot"
   ]
  },
  {
   "cell_type": "code",
   "execution_count": null,
   "id": "9050d71b",
   "metadata": {},
   "outputs": [
    {
     "ename": "",
     "evalue": "",
     "output_type": "error",
     "traceback": [
      "\u001b[1;31mRunning cells with 'Python 3.12.3' requires the ipykernel package.\n",
      "\u001b[1;31mRun the following command to install 'ipykernel' into the Python environment. \n",
      "\u001b[1;31mCommand: '/opt/homebrew/bin/python3 -m pip install ipykernel -U --user --force-reinstall'"
     ]
    }
   ],
   "source": [
    "plt.figure(figsize=(20,10))\n",
    "tree.plot_tree(sk_dt, filled=True)\n",
    "plt.show()"
   ]
  },
  {
   "cell_type": "markdown",
   "id": "c8c4d881",
   "metadata": {},
   "source": [
    "##### Accuracy, Precision, Recall and Confusion matrix of the model."
   ]
  },
  {
   "cell_type": "code",
   "execution_count": null,
   "id": "64471641",
   "metadata": {},
   "outputs": [
    {
     "ename": "",
     "evalue": "",
     "output_type": "error",
     "traceback": [
      "\u001b[1;31mRunning cells with 'Python 3.12.3' requires the ipykernel package.\n",
      "\u001b[1;31mRun the following command to install 'ipykernel' into the Python environment. \n",
      "\u001b[1;31mCommand: '/opt/homebrew/bin/python3 -m pip install ipykernel -U --user --force-reinstall'"
     ]
    }
   ],
   "source": [
    "\n",
    "y_hat=sk_dt.predict(xt)\n",
    "a=skl.metrics.accuracy_score(y_test,y_hat)\n",
    "print(\"Accuracy : \",a)\n",
    "p=skl.metrics.precision_score(y_test,y_hat,average='macro')\n",
    "print(\"Precision : \",p)\n",
    "r=skl.metrics.recall_score(y_test,y_hat,average='macro')\n",
    "print(\"Recall : \",r)\n",
    "cm=skl.metrics.confusion_matrix(y_test,y_hat)\n",
    "plt.figure(figsize=(8, 6))\n",
    "sns.heatmap(cm, annot=True, fmt='d', cmap='Greens', xticklabels=activities, yticklabels=activities)\n",
    "plt.xticks(rotation=45)\n",
    "plt.xlabel('Predicted Label')\n",
    "plt.ylabel('True Label')\n",
    "plt.title('Confusion Matrix')\n",
    "plt.show()"
   ]
  },
  {
   "cell_type": "markdown",
   "id": "43ed12bb",
   "metadata": {},
   "source": []
  },
  {
   "cell_type": "markdown",
   "id": "903c1ca8",
   "metadata": {},
   "source": [
    "## Decision Tree 3"
   ]
  },
  {
   "cell_type": "code",
   "execution_count": null,
   "id": "cffc1cc6",
   "metadata": {},
   "outputs": [
    {
     "ename": "",
     "evalue": "",
     "output_type": "error",
     "traceback": [
      "\u001b[1;31mRunning cells with 'Python 3.12.3' requires the ipykernel package.\n",
      "\u001b[1;31mRun the following command to install 'ipykernel' into the Python environment. \n",
      "\u001b[1;31mCommand: '/opt/homebrew/bin/python3 -m pip install ipykernel -U --user --force-reinstall'"
     ]
    }
   ],
   "source": [
    "from Body_MakeDataset import Body_X_train,Body_X_test,Body_y_train,Body_y_test\n",
    "from Gyro_MakeDataset import Gyro_X_train,Gyro_X_test,Gyro_y_train,Gyro_y_test\n",
    "\n",
    "Extra_X_train=np.concatenate((Body_X_train,Gyro_X_train),axis=-1)\n",
    "Extra_X_test=np.concatenate((Body_X_test,Gyro_X_test),axis=-1)\n"
   ]
  },
  {
   "cell_type": "code",
   "execution_count": null,
   "id": "b4549260",
   "metadata": {},
   "outputs": [
    {
     "ename": "",
     "evalue": "",
     "output_type": "error",
     "traceback": [
      "\u001b[1;31mRunning cells with 'Python 3.12.3' requires the ipykernel package.\n",
      "\u001b[1;31mRun the following command to install 'ipykernel' into the Python environment. \n",
      "\u001b[1;31mCommand: '/opt/homebrew/bin/python3 -m pip install ipykernel -U --user --force-reinstall'"
     ]
    }
   ],
   "source": [
    "body_x_tr=[]\n",
    "body_y_tr=[]\n",
    "body_z_tr=[]\n",
    "gyro_x_tr=[]\n",
    "gyro_y_tr=[]\n",
    "gyro_z_tr=[]\n",
    "for i in range(94):\n",
    "    for j in range(500):\n",
    "        body_x_tr.append(Extra_X_train[i][j][0])\n",
    "        body_y_tr.append(Extra_X_train[i][j][1])\n",
    "        body_z_tr.append(Extra_X_train[i][j][2])\n",
    "        gyro_x_tr.append(Extra_X_train[i][j][3])\n",
    "        gyro_y_tr.append(Extra_X_train[i][j][4])\n",
    "        gyro_z_tr.append(Extra_X_train[i][j][5])\n",
    "body_x_te=[]\n",
    "body_y_te=[]\n",
    "body_z_te=[]\n",
    "gyro_x_te=[]\n",
    "gyro_y_te=[]\n",
    "gyro_z_te=[]\n",
    "for i in range(41):\n",
    "    for j in range(500):\n",
    "        body_x_te.append(Extra_X_test[i][j][0])\n",
    "        body_y_te.append(Extra_X_test[i][j][1])\n",
    "        body_z_te.append(Extra_X_test[i][j][2])\n",
    "        gyro_x_te.append(Extra_X_test[i][j][3])\n",
    "        gyro_y_te.append(Extra_X_test[i][j][4])\n",
    "        gyro_z_te.append(Extra_X_test[i][j][5])\n",
    "\n"
   ]
  },
  {
   "cell_type": "code",
   "execution_count": null,
   "id": "57811f33",
   "metadata": {},
   "outputs": [
    {
     "ename": "",
     "evalue": "",
     "output_type": "error",
     "traceback": [
      "\u001b[1;31mRunning cells with 'Python 3.12.3' requires the ipykernel package.\n",
      "\u001b[1;31mRun the following command to install 'ipykernel' into the Python environment. \n",
      "\u001b[1;31mCommand: '/opt/homebrew/bin/python3 -m pip install ipykernel -U --user --force-reinstall'"
     ]
    }
   ],
   "source": [
    "body_x_tr_n,body_x_te_n=my_normalise(body_x_tr,body_x_te)\n",
    "body_y_tr_n,body_y_te_n=my_normalise(body_y_tr,body_y_te)\n",
    "body_z_tr_n,body_z_te_n=my_normalise(body_z_tr,body_z_te)\n",
    "gyro_x_tr_n,gyro_x_te_n=my_normalise(gyro_x_tr,gyro_x_te)\n",
    "gyro_y_tr_n,gyro_y_te_n=my_normalise(gyro_y_tr,gyro_y_te)\n",
    "gyro_z_tr_n,gyro_z_te_n=my_normalise(gyro_z_tr,gyro_z_te)\n",
    "\n",
    "body_x_tr_n=np.array(body_x_tr_n)\n",
    "body_y_tr_n=np.array(body_y_tr_n)\n",
    "body_z_tr_n=np.array(body_z_tr_n)\n",
    "body_x_te_n=np.array(body_x_te_n)\n",
    "body_y_te_n=np.array(body_y_te_n)\n",
    "body_z_te_n=np.array(body_z_te_n)\n",
    "\n",
    "gyro_x_tr_n=np.array(gyro_x_tr_n)\n",
    "gyro_y_tr_n=np.array(gyro_y_tr_n)\n",
    "gyro_z_tr_n=np.array(gyro_z_tr_n)\n",
    "gyro_x_te_n=np.array(gyro_x_te_n)\n",
    "gyro_y_te_n=np.array(gyro_y_te_n)\n",
    "gyro_z_te_n=np.array(gyro_z_te_n)"
   ]
  },
  {
   "cell_type": "code",
   "execution_count": null,
   "id": "83df20f8",
   "metadata": {},
   "outputs": [
    {
     "ename": "",
     "evalue": "",
     "output_type": "error",
     "traceback": [
      "\u001b[1;31mRunning cells with 'Python 3.12.3' requires the ipykernel package.\n",
      "\u001b[1;31mRun the following command to install 'ipykernel' into the Python environment. \n",
      "\u001b[1;31mCommand: '/opt/homebrew/bin/python3 -m pip install ipykernel -U --user --force-reinstall'"
     ]
    }
   ],
   "source": [
    "extra_stacked_tr=np.stack((body_x_tr_n,body_y_tr_n,body_z_tr_n,gyro_x_tr_n,gyro_y_tr_n,gyro_z_tr_n),axis=1)\n",
    "extra_X_train_n=extra_stacked_tr.reshape(94,500,6)\n",
    "extra_X_train_n_rs=extra_X_train_n.reshape(94,3000)\n",
    "extra_stacked_te=np.stack((body_x_te_n,body_y_te_n,body_z_te_n,gyro_x_te_n,gyro_y_te_n,gyro_z_te_n),axis=1)\n",
    "extra_X_test_n=extra_stacked_te.reshape(41,500,6)\n",
    "extra_X_test_n_rs=extra_X_test_n.reshape(41,3000)\n"
   ]
  },
  {
   "cell_type": "code",
   "execution_count": null,
   "id": "77eabb59",
   "metadata": {},
   "outputs": [
    {
     "ename": "",
     "evalue": "",
     "output_type": "error",
     "traceback": [
      "\u001b[1;31mRunning cells with 'Python 3.12.3' requires the ipykernel package.\n",
      "\u001b[1;31mRun the following command to install 'ipykernel' into the Python environment. \n",
      "\u001b[1;31mCommand: '/opt/homebrew/bin/python3 -m pip install ipykernel -U --user --force-reinstall'"
     ]
    }
   ],
   "source": [
    "x_n=extra_X_train_n_rs\n",
    "y_n=Body_y_train\n",
    "xt_n=extra_X_test_n_rs"
   ]
  },
  {
   "cell_type": "markdown",
   "id": "42ee5bd1",
   "metadata": {},
   "source": [
    "#### Using Gini"
   ]
  },
  {
   "cell_type": "markdown",
   "id": "1a6d0147",
   "metadata": {},
   "source": [
    "##### Making Decision Tree"
   ]
  },
  {
   "cell_type": "code",
   "execution_count": null,
   "id": "b8c18f15",
   "metadata": {},
   "outputs": [
    {
     "ename": "",
     "evalue": "",
     "output_type": "error",
     "traceback": [
      "\u001b[1;31mRunning cells with 'Python 3.12.3' requires the ipykernel package.\n",
      "\u001b[1;31mRun the following command to install 'ipykernel' into the Python environment. \n",
      "\u001b[1;31mCommand: '/opt/homebrew/bin/python3 -m pip install ipykernel -U --user --force-reinstall'"
     ]
    }
   ],
   "source": [
    "sk_dt=tree.DecisionTreeClassifier(criterion=\"gini\",random_state=42)\n",
    "sk_dt=sk_dt.fit(x_n,y_n)\n",
    "depth=sk_dt.get_depth()\n",
    "print(\"Depth of Decision Tree:\",depth)"
   ]
  },
  {
   "cell_type": "markdown",
   "id": "21abd435",
   "metadata": {},
   "source": [
    "##### Decision Tree Plot"
   ]
  },
  {
   "cell_type": "code",
   "execution_count": null,
   "id": "549787d3",
   "metadata": {},
   "outputs": [
    {
     "ename": "",
     "evalue": "",
     "output_type": "error",
     "traceback": [
      "\u001b[1;31mRunning cells with 'Python 3.12.3' requires the ipykernel package.\n",
      "\u001b[1;31mRun the following command to install 'ipykernel' into the Python environment. \n",
      "\u001b[1;31mCommand: '/opt/homebrew/bin/python3 -m pip install ipykernel -U --user --force-reinstall'"
     ]
    }
   ],
   "source": [
    "plt.figure(figsize=(20,10))\n",
    "tree.plot_tree(sk_dt, filled=True)\n",
    "plt.show()"
   ]
  },
  {
   "cell_type": "markdown",
   "id": "95de568f",
   "metadata": {},
   "source": [
    "##### Accuracy, Precision, Recall and Confusion matrix of the model."
   ]
  },
  {
   "cell_type": "code",
   "execution_count": null,
   "id": "10fc1432",
   "metadata": {},
   "outputs": [
    {
     "ename": "",
     "evalue": "",
     "output_type": "error",
     "traceback": [
      "\u001b[1;31mRunning cells with 'Python 3.12.3' requires the ipykernel package.\n",
      "\u001b[1;31mRun the following command to install 'ipykernel' into the Python environment. \n",
      "\u001b[1;31mCommand: '/opt/homebrew/bin/python3 -m pip install ipykernel -U --user --force-reinstall'"
     ]
    }
   ],
   "source": [
    "\n",
    "y_hat=sk_dt.predict(xt_n)\n",
    "a=skl.metrics.accuracy_score(Body_y_test,y_hat)\n",
    "print(\"Accuracy : \",a)\n",
    "p=skl.metrics.precision_score(Body_y_test,y_hat,average='macro')\n",
    "print(\"Precision : \",p)\n",
    "r=skl.metrics.recall_score(Body_y_test,y_hat,average='macro')\n",
    "print(\"Recall : \",r)\n",
    "cm=skl.metrics.confusion_matrix(Body_y_test,y_hat)\n",
    "plt.figure(figsize=(8, 6))\n",
    "sns.heatmap(cm, annot=True, fmt='d', cmap='Greens', xticklabels=activities, yticklabels=activities)\n",
    "plt.xticks(rotation=45)\n",
    "plt.xlabel('Predicted Label')\n",
    "plt.ylabel('True Label')\n",
    "plt.title('Confusion Matrix')\n",
    "plt.show()"
   ]
  },
  {
   "cell_type": "markdown",
   "id": "a5b5bc9a",
   "metadata": {},
   "source": [
    "#### Using Entropy"
   ]
  },
  {
   "cell_type": "markdown",
   "id": "9d0ad677",
   "metadata": {},
   "source": [
    "##### Making Decision Tree"
   ]
  },
  {
   "cell_type": "code",
   "execution_count": null,
   "id": "fd4d5efe",
   "metadata": {},
   "outputs": [
    {
     "ename": "",
     "evalue": "",
     "output_type": "error",
     "traceback": [
      "\u001b[1;31mRunning cells with 'Python 3.12.3' requires the ipykernel package.\n",
      "\u001b[1;31mRun the following command to install 'ipykernel' into the Python environment. \n",
      "\u001b[1;31mCommand: '/opt/homebrew/bin/python3 -m pip install ipykernel -U --user --force-reinstall'"
     ]
    }
   ],
   "source": [
    "sk_dt=tree.DecisionTreeClassifier(criterion=\"entropy\",random_state=42)\n",
    "sk_dt=sk_dt.fit(x_n,y_n)\n",
    "depth=sk_dt.get_depth()\n",
    "print(\"Depth of Decision Tree:\",depth)"
   ]
  },
  {
   "cell_type": "markdown",
   "id": "a7d74623",
   "metadata": {},
   "source": [
    "##### Decision Tree Plot"
   ]
  },
  {
   "cell_type": "code",
   "execution_count": null,
   "id": "95610948",
   "metadata": {},
   "outputs": [
    {
     "ename": "",
     "evalue": "",
     "output_type": "error",
     "traceback": [
      "\u001b[1;31mRunning cells with 'Python 3.12.3' requires the ipykernel package.\n",
      "\u001b[1;31mRun the following command to install 'ipykernel' into the Python environment. \n",
      "\u001b[1;31mCommand: '/opt/homebrew/bin/python3 -m pip install ipykernel -U --user --force-reinstall'"
     ]
    }
   ],
   "source": [
    "plt.figure(figsize=(20,10))\n",
    "tree.plot_tree(sk_dt, filled=True)\n",
    "plt.show()"
   ]
  },
  {
   "cell_type": "markdown",
   "id": "c61115d6",
   "metadata": {},
   "source": [
    "##### Accuracy, Precision, Recall and Confusion matrix of the model."
   ]
  },
  {
   "cell_type": "code",
   "execution_count": null,
   "id": "0383ff82",
   "metadata": {},
   "outputs": [
    {
     "ename": "",
     "evalue": "",
     "output_type": "error",
     "traceback": [
      "\u001b[1;31mRunning cells with 'Python 3.12.3' requires the ipykernel package.\n",
      "\u001b[1;31mRun the following command to install 'ipykernel' into the Python environment. \n",
      "\u001b[1;31mCommand: '/opt/homebrew/bin/python3 -m pip install ipykernel -U --user --force-reinstall'"
     ]
    }
   ],
   "source": [
    "\n",
    "y_hat=sk_dt.predict(xt_n)\n",
    "a=skl.metrics.accuracy_score(Body_y_test,y_hat)\n",
    "print(\"Accuracy : \",a)\n",
    "p=skl.metrics.precision_score(Body_y_test,y_hat,average='macro')\n",
    "print(\"Precision : \",p)\n",
    "r=skl.metrics.recall_score(Body_y_test,y_hat,average='macro')\n",
    "print(\"Recall : \",r)\n",
    "cm=skl.metrics.confusion_matrix(Body_y_test,y_hat)\n",
    "plt.figure(figsize=(8, 6))\n",
    "sns.heatmap(cm, annot=True, fmt='d', cmap='Greens', xticklabels=activities, yticklabels=activities)\n",
    "plt.xticks(rotation=45)\n",
    "plt.xlabel('Predicted Label')\n",
    "plt.ylabel('True Label')\n",
    "plt.title('Confusion Matrix')\n",
    "plt.show()"
   ]
  },
  {
   "cell_type": "markdown",
   "id": "b3a23f65",
   "metadata": {},
   "source": []
  },
  {
   "cell_type": "markdown",
   "id": "e9d06dd8",
   "metadata": {},
   "source": [
    "## 2.Train Decision Tree with varying depths (2-8) using all above 3 methods. Plot the accuracy of the model on test data vs the depth of the tree. "
   ]
  },
  {
   "cell_type": "markdown",
   "id": "5377320c",
   "metadata": {},
   "source": [
    "### For Decision Tree 1"
   ]
  },
  {
   "cell_type": "markdown",
   "id": "1ac72486",
   "metadata": {},
   "source": [
    "#### With gini criterion"
   ]
  },
  {
   "cell_type": "code",
   "execution_count": null,
   "id": "c2b12968",
   "metadata": {},
   "outputs": [
    {
     "ename": "",
     "evalue": "",
     "output_type": "error",
     "traceback": [
      "\u001b[1;31mRunning cells with 'Python 3.12.3' requires the ipykernel package.\n",
      "\u001b[1;31mRun the following command to install 'ipykernel' into the Python environment. \n",
      "\u001b[1;31mCommand: '/opt/homebrew/bin/python3 -m pip install ipykernel -U --user --force-reinstall'"
     ]
    }
   ],
   "source": [
    "dep=np.arange(2,9)\n",
    "accuracy_list=[]\n",
    "for i in dep:\n",
    "    skl_dt=tree.DecisionTreeClassifier(criterion=\"gini\",random_state=42,max_depth=i)\n",
    "    skl_dt=skl_dt.fit(x,y)\n",
    "    y_hat1=skl_dt.predict(xt)\n",
    "    acc=skl.metrics.accuracy_score(y_test,y_hat1)\n",
    "    accuracy_list.append(acc)\n",
    "plt.plot(accuracy_list,dep)\n",
    "plt.xlabel(\"Accuracy\")\n",
    "plt.ylabel(\"Depth\")\n",
    "plt.title(\"Accuracy vs Depth for gini\")\n",
    "plt.show()\n"
   ]
  },
  {
   "cell_type": "markdown",
   "id": "de7b2e96",
   "metadata": {},
   "source": [
    "#### With entropy criterion"
   ]
  },
  {
   "cell_type": "code",
   "execution_count": null,
   "id": "cacac986",
   "metadata": {},
   "outputs": [
    {
     "ename": "",
     "evalue": "",
     "output_type": "error",
     "traceback": [
      "\u001b[1;31mRunning cells with 'Python 3.12.3' requires the ipykernel package.\n",
      "\u001b[1;31mRun the following command to install 'ipykernel' into the Python environment. \n",
      "\u001b[1;31mCommand: '/opt/homebrew/bin/python3 -m pip install ipykernel -U --user --force-reinstall'"
     ]
    }
   ],
   "source": [
    "dep=np.arange(2,9)\n",
    "accuracy_list=[]\n",
    "for i in dep:\n",
    "    skl_dt=tree.DecisionTreeClassifier(criterion=\"entropy\",random_state=42,max_depth=i)\n",
    "    skl_dt=skl_dt.fit(x,y)\n",
    "    y_hat1=skl_dt.predict(xt)\n",
    "    acc=skl.metrics.accuracy_score(y_test,y_hat1)\n",
    "    accuracy_list.append(acc)\n",
    "plt.plot(accuracy_list,dep)\n",
    "plt.xlabel(\"Accuracy\")\n",
    "plt.ylabel(\"Depth\")\n",
    "plt.title(\"Accuracy vs Depth for entropy\")\n",
    "plt.show()\n"
   ]
  },
  {
   "cell_type": "markdown",
   "id": "a8497736",
   "metadata": {},
   "source": [
    "### For Decision Tree 3"
   ]
  },
  {
   "cell_type": "markdown",
   "id": "df7070a8",
   "metadata": {},
   "source": [
    "#### With gini criterion"
   ]
  },
  {
   "cell_type": "code",
   "execution_count": null,
   "id": "ecc3bc02",
   "metadata": {},
   "outputs": [
    {
     "ename": "",
     "evalue": "",
     "output_type": "error",
     "traceback": [
      "\u001b[1;31mRunning cells with 'Python 3.12.3' requires the ipykernel package.\n",
      "\u001b[1;31mRun the following command to install 'ipykernel' into the Python environment. \n",
      "\u001b[1;31mCommand: '/opt/homebrew/bin/python3 -m pip install ipykernel -U --user --force-reinstall'"
     ]
    }
   ],
   "source": [
    "dep=np.arange(2,9)\n",
    "accuracy_list=[]\n",
    "for i in dep:\n",
    "    skl_dt=tree.DecisionTreeClassifier(criterion=\"gini\",random_state=42,max_depth=i)\n",
    "    skl_dt=skl_dt.fit(x_n,y_n)\n",
    "    y_hat1=skl_dt.predict(xt_n)\n",
    "    acc=skl.metrics.accuracy_score(Body_y_test,y_hat1)\n",
    "    accuracy_list.append(acc)\n",
    "plt.plot(accuracy_list,dep)\n",
    "plt.xlabel(\"Accuracy\")\n",
    "plt.ylabel(\"Depth\")\n",
    "plt.title(\"Accuracy vs Depth for gini\")\n",
    "plt.show()\n"
   ]
  },
  {
   "cell_type": "markdown",
   "id": "331ea88e",
   "metadata": {},
   "source": [
    "#### With entropy criterion"
   ]
  },
  {
   "cell_type": "code",
   "execution_count": null,
   "id": "70e6640e",
   "metadata": {},
   "outputs": [
    {
     "ename": "",
     "evalue": "",
     "output_type": "error",
     "traceback": [
      "\u001b[1;31mRunning cells with 'Python 3.12.3' requires the ipykernel package.\n",
      "\u001b[1;31mRun the following command to install 'ipykernel' into the Python environment. \n",
      "\u001b[1;31mCommand: '/opt/homebrew/bin/python3 -m pip install ipykernel -U --user --force-reinstall'"
     ]
    }
   ],
   "source": [
    "dep=np.arange(2,9)\n",
    "accuracy_list=[]\n",
    "for i in dep:\n",
    "    skl_dt=tree.DecisionTreeClassifier(criterion=\"entropy\",random_state=42,max_depth=i)\n",
    "    skl_dt=skl_dt.fit(x_n,y_n)\n",
    "    y_hat1=skl_dt.predict(xt_n)\n",
    "    acc=skl.metrics.accuracy_score(Body_y_test,y_hat1)\n",
    "    accuracy_list.append(acc)\n",
    "plt.plot(accuracy_list,dep)\n",
    "plt.xlabel(\"Accuracy\")\n",
    "plt.ylabel(\"Depth\")\n",
    "plt.title(\"Accuracy vs Depth for entropy\")\n",
    "plt.show()\n"
   ]
  },
  {
   "cell_type": "code",
   "execution_count": null,
   "id": "5454b45f",
   "metadata": {},
   "outputs": [
    {
     "ename": "",
     "evalue": "",
     "output_type": "error",
     "traceback": [
      "\u001b[1;31mRunning cells with 'Python 3.12.3' requires the ipykernel package.\n",
      "\u001b[1;31mRun the following command to install 'ipykernel' into the Python environment. \n",
      "\u001b[1;31mCommand: '/opt/homebrew/bin/python3 -m pip install ipykernel -U --user --force-reinstall'"
     ]
    }
   ],
   "source": []
  }
 ],
 "metadata": {
  "kernelspec": {
   "display_name": "Python 3 (ipykernel)",
   "language": "python",
   "name": "python3"
  },
  "language_info": {
   "codemirror_mode": {
    "name": "ipython",
    "version": 3
   },
   "file_extension": ".py",
   "mimetype": "text/x-python",
   "name": "python",
   "nbconvert_exporter": "python",
   "pygments_lexer": "ipython3",
   "version": "3.12.3"
  }
 },
 "nbformat": 4,
 "nbformat_minor": 5
}
