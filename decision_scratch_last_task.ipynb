{
 "cells": [
  {
   "cell_type": "markdown",
   "metadata": {},
   "source": [
    "# Purpose \n",
    "\n",
    "the purpose of this notebook is to demonstrate the working of the from scratch implementation of a decision tree"
   ]
  },
  {
   "cell_type": "code",
   "execution_count": 2,
   "metadata": {},
   "outputs": [],
   "source": [
    "from metrics import *\n",
    "\n",
    "import pandas as pd\n",
    "import numpy as np"
   ]
  },
  {
   "cell_type": "code",
   "execution_count": 3,
   "metadata": {},
   "outputs": [
    {
     "name": "stdout",
     "output_type": "stream",
     "text": [
      "Training data shape:  (126, 500, 3)\n",
      "Testing data shape:  (54, 500, 3)\n"
     ]
    }
   ],
   "source": [
    "from MakeDataset import X_train,X_test,y_train,y_test"
   ]
  },
  {
   "cell_type": "markdown",
   "metadata": {},
   "source": [
    "# metrics"
   ]
  },
  {
   "cell_type": "markdown",
   "metadata": {},
   "source": [
    "## Accuracy "
   ]
  },
  {
   "cell_type": "code",
   "execution_count": 4,
   "metadata": {},
   "outputs": [],
   "source": [
    "def accuracy(y_hat: pd.Series, y: pd.Series) -> float:\n",
    "    \"\"\"\n",
    "    Function to calculate the accuracy.\n",
    "    \"\"\"\n",
    "    # Assert that y_hat and y have the same length\n",
    "    assert y_hat.size == y.size, \"Size of y_hat and y must be equal.\"\n",
    "\n",
    "    \n",
    "    numerator = (y_hat == y).sum()\n",
    "    #print(f\"Numerator (correct predictions): {numerator}\")\n",
    "\n",
    "   \n",
    "    denominator = y.size\n",
    "    #print(f\"Denominator (total predictions): {denominator}\")\n",
    "\n",
    "    \n",
    "    accuracy = numerator / denominator\n",
    "    return accuracy * 100"
   ]
  },
  {
   "cell_type": "code",
   "execution_count": 5,
   "metadata": {},
   "outputs": [
    {
     "name": "stdout",
     "output_type": "stream",
     "text": [
      "Accuracy: 100.0%\n"
     ]
    }
   ],
   "source": [
    "# Define y_hat and y\n",
    "y_hat = pd.Series(['yes', 1, 1,1])\n",
    "y = pd.Series(['yes', 1, 1,1])\n",
    "\n",
    "# Correctly compute accuracy using the function from mn\n",
    "accuracy_result = accuracy(y_hat, y)\n",
    "\n",
    "# Display the result\n",
    "print(f\"Accuracy: {accuracy_result}%\")"
   ]
  },
  {
   "cell_type": "code",
   "execution_count": 6,
   "metadata": {},
   "outputs": [
    {
     "data": {
      "text/plain": [
       "'\\nVariations of the problem:\\n1) Discrete I/P, Discrete O/P => classficiation \\n2) Discrete I/P, Real O/P => regression \\n3) Real I/P, Discrete O/P => classification\\n3) Real I/P, Real O/P => regression\\n'"
      ]
     },
     "execution_count": 6,
     "metadata": {},
     "output_type": "execute_result"
    }
   ],
   "source": [
    "'''\n",
    "Variations of the problem:\n",
    "1) Discrete I/P, Discrete O/P => classficiation \n",
    "2) Discrete I/P, Real O/P => regression \n",
    "3) Real I/P, Discrete O/P => classification\n",
    "3) Real I/P, Real O/P => regression\n",
    "'''"
   ]
  },
  {
   "cell_type": "markdown",
   "metadata": {},
   "source": [
    "## Precision"
   ]
  },
  {
   "cell_type": "code",
   "execution_count": 7,
   "metadata": {},
   "outputs": [],
   "source": [
    "def precision(y_hat: pd.Series, y: pd.Series, cls: Union[int, str]) -> float:\n",
    "    \"\"\"\n",
    "    Function to calculate the precision. Defined only for 1) and 3). \n",
    "    \"\"\"\n",
    "    true_positives = ((y_hat == cls) & (y == cls)).sum()\n",
    "    \n",
    "    # Calculate predicted positives\n",
    "    gnd_positives = (y == cls).sum()\n",
    "    \n",
    "    return true_positives / gnd_positives if gnd_positives != 0 else 0.0"
   ]
  },
  {
   "cell_type": "code",
   "execution_count": 8,
   "metadata": {},
   "outputs": [
    {
     "data": {
      "text/plain": [
       "1.0"
      ]
     },
     "execution_count": 8,
     "metadata": {},
     "output_type": "execute_result"
    }
   ],
   "source": [
    "y_hat = pd.Series(['yes', 1, 1, 1])\n",
    "y = pd.Series(['yes', 1, 0, 1])\n",
    "precision(y_hat, y, 1)"
   ]
  },
  {
   "cell_type": "markdown",
   "metadata": {},
   "source": [
    "## recall "
   ]
  },
  {
   "cell_type": "code",
   "execution_count": 9,
   "metadata": {},
   "outputs": [],
   "source": [
    "def recall(y_hat: pd.Series, y: pd.Series, cls: Union[int, str]) -> float:\n",
    "    \"\"\"\n",
    "    Function to calculate the precision. Defined only for 1) and 3). \n",
    "    \"\"\"\n",
    "    true_positives = ((y_hat == cls) & (y == cls)).sum()\n",
    "    \n",
    "    # Calculate predicted positives\n",
    "    gnd_positives = (y == cls).sum()\n",
    "    \n",
    "    return true_positives / gnd_positives if gnd_positives != 0 else 0.0\n"
   ]
  },
  {
   "cell_type": "code",
   "execution_count": 10,
   "metadata": {},
   "outputs": [
    {
     "data": {
      "text/plain": [
       "1.0"
      ]
     },
     "execution_count": 10,
     "metadata": {},
     "output_type": "execute_result"
    }
   ],
   "source": [
    "y_hat = pd.Series(['yes', 1, 1, 1])\n",
    "y = pd.Series(['yes', 1, 0, 1])\n",
    "recall(y_hat, y, 1)"
   ]
  },
  {
   "cell_type": "markdown",
   "metadata": {},
   "source": [
    "## rmse "
   ]
  },
  {
   "cell_type": "code",
   "execution_count": 11,
   "metadata": {},
   "outputs": [],
   "source": [
    "def rmse(y_hat: pd.Series, y: pd.Series) -> float:\n",
    "    \"\"\"\n",
    "    Function to calculate the root-mean-squared-error(rmse). Defined only for 2) and 4).\n",
    "    \"\"\"\n",
    "\n",
    "    assert y_hat.size == y.size, \"Size of y_hat and y must be equal.\"\n",
    "\n",
    "    y_hat = np.array(y_hat)\n",
    "    y = np.array(y)\n",
    "    numerator = np.sum((y_hat-y)**2)\n",
    "    denominator = y.size\n",
    "\n",
    "    return np.sqrt(numerator/denominator)\n"
   ]
  },
  {
   "cell_type": "code",
   "execution_count": 12,
   "metadata": {},
   "outputs": [
    {
     "data": {
      "text/plain": [
       "10.0"
      ]
     },
     "execution_count": 12,
     "metadata": {},
     "output_type": "execute_result"
    }
   ],
   "source": [
    "y_hat =pd.Series([10,20])\n",
    "y = pd.Series([20,30])\n",
    "\n",
    "rmse(y_hat,y)"
   ]
  },
  {
   "cell_type": "markdown",
   "metadata": {},
   "source": [
    "## mae"
   ]
  },
  {
   "cell_type": "code",
   "execution_count": 13,
   "metadata": {},
   "outputs": [],
   "source": [
    "def mae(y_hat: pd.Series, y: pd.Series) -> float:\n",
    "    \"\"\"\n",
    "    Function to calculate the mean-absolute-error(mae). Defined only for 2) and 4).\n",
    "    \"\"\"\n",
    "    assert y_hat.size == y.size, \"Size of y_hat and y must be equal.\"\n",
    "    assert y.size, \"Ground Truth array is 0\"\n",
    "    assert y_hat.size, \"Predicition array is 0\"\n",
    "\n",
    "\n",
    "    y_hat = np.array(y_hat)\n",
    "    y = np.array(y)\n",
    "    numerator = np.sum((np.abs(y_hat-y)))\n",
    "\n",
    "    denominator = y.size\n",
    "\n",
    "    return numerator/denominator\n"
   ]
  },
  {
   "cell_type": "code",
   "execution_count": 14,
   "metadata": {},
   "outputs": [
    {
     "data": {
      "text/plain": [
       "9.5"
      ]
     },
     "execution_count": 14,
     "metadata": {},
     "output_type": "execute_result"
    }
   ],
   "source": [
    "y_hat =pd.Series([11,20])\n",
    "y = pd.Series([20,30])\n",
    "\n",
    "mae(y_hat,y)"
   ]
  },
  {
   "cell_type": "markdown",
   "metadata": {},
   "source": [
    "# trying decision tree"
   ]
  },
  {
   "cell_type": "code",
   "execution_count": 15,
   "metadata": {},
   "outputs": [],
   "source": [
    "import numpy as np\n",
    "import pandas as pd\n",
    "import matplotlib.pyplot as plt\n",
    "from tree.base import DecisionTree\n",
    "from metrics import *\n",
    "\n",
    "np.random.seed(42)"
   ]
  },
  {
   "cell_type": "code",
   "execution_count": 16,
   "metadata": {},
   "outputs": [],
   "source": [
    "import pandas as pd\n",
    "import numpy as np"
   ]
  },
  {
   "cell_type": "code",
   "execution_count": 17,
   "metadata": {},
   "outputs": [],
   "source": [
    "from tree.base import DecisionTree"
   ]
  },
  {
   "cell_type": "code",
   "execution_count": 18,
   "metadata": {},
   "outputs": [],
   "source": [
    "# Real Input and Discrete Output"
   ]
  },
  {
   "cell_type": "code",
   "execution_count": 19,
   "metadata": {},
   "outputs": [
    {
     "data": {
      "text/plain": [
       "0    20\n",
       "1    30\n",
       "dtype: int64"
      ]
     },
     "execution_count": 19,
     "metadata": {},
     "output_type": "execute_result"
    }
   ],
   "source": [
    "y"
   ]
  },
  {
   "cell_type": "code",
   "execution_count": 20,
   "metadata": {},
   "outputs": [],
   "source": [
    "#{'1_': {'attribute': 0.0, 'split_value': 0.16919126215699776, 'right_label': '1_1_', 'left_label': '1_2_'}, '1_1_': {'attribute': 0.0, 'split_value': -1.4394428450912664, 'right_label': '1_1_1_', 'left_label': '1_1_2_'}, '1_1_1_': 3, '1_1_2_': {'attribute': 0.0, 'split_value': -0.5320222864127546, 'right_label': '1_1_2_1_', 'left_label': '1_1_2_2_'}, '1_1_2_1_': {'attribute': 0.0, 'split_value': -0.6607754103120528, 'right_label': '1_1_2_1_1_', 'left_label': '1_1_2_1_2_'}, '1_1_2_1_1_': 0, '1_1_2_1_2_': {'attribute': 0.0, 'split_value': -0.5819970707351848, 'right_label': '1_1_2_1_2_1_', 'left_label': '1_1_2_1_2_2_'}, '1_1_2_1_2_1_': 2, '1_1_2_1_2_2_': 0, '1_1_2_2_': 3, '1_2_': 2}\n"
   ]
  },
  {
   "cell_type": "code",
   "execution_count": 21,
   "metadata": {},
   "outputs": [
    {
     "name": "stdout",
     "output_type": "stream",
     "text": [
      "{'1_': {'attribute': 0.0, 'split_value': 0.16919126215699776, 'right_label': '1_1_', 'left_label': '1_2_'}, '1_1_': {'attribute': 0.0, 'split_value': -1.4394428450912664, 'right_label': '1_1_1_', 'left_label': '1_1_2_'}, '1_1_1_': 3, '1_1_2_': {'attribute': 0.0, 'split_value': -0.5320222864127546, 'right_label': '1_1_2_1_', 'left_label': '1_1_2_2_'}, '1_1_2_1_': {'attribute': 0.0, 'split_value': -0.6607754103120528, 'right_label': '1_1_2_1_1_', 'left_label': '1_1_2_1_2_'}, '1_1_2_1_1_': 0, '1_1_2_1_2_': {'attribute': 0.0, 'split_value': -0.5819970707351848, 'right_label': '1_1_2_1_2_1_', 'left_label': '1_1_2_1_2_2_'}, '1_1_2_1_2_1_': 2, '1_1_2_1_2_2_': 0, '1_1_2_2_': 3, '1_2_': 2}\n",
      "[3, 2, 2, 2, 3, 2, 2, 2, 3, 2, 3, 3, 2, 3, 3, 3, 2, 2, 2, 2, 2, 3, 2, 3, 3, 3, 2, 3, 3, 3]\n",
      "Criteria : entropy\n",
      "Accuracy:  0.1\n"
     ]
    }
   ],
   "source": [
    "\n",
    "N = 30\n",
    "P = 5\n",
    "X = pd.DataFrame(np.random.randn(N, P))\n",
    "y = pd.Series(np.random.randint(P, size=N), dtype=\"category\")\n",
    "\n",
    "for criteria in [\"entropy\"]:\n",
    "    tree_object = DecisionTree(criterion=criteria)  # Split based on Inf. Gain\n",
    "    tree_object.fit(X, y)\n",
    "    y_hat = tree_object.predict(X)\n",
    "    print(y_hat)\n",
    "    # tree.plot()\n",
    "    print(\"Criteria :\", criteria)\n",
    "    print(\"Accuracy: \", accuracy(y_hat, y))\n",
    "    # for cls in y.unique():\n",
    "    #     print(\"Precision: \", precision(y_hat, y, cls))\n",
    "    #     print(\"Recall: \", recall(y_hat, y, cls))"
   ]
  },
  {
   "cell_type": "code",
   "execution_count": 22,
   "metadata": {},
   "outputs": [
    {
     "name": "stdout",
     "output_type": "stream",
     "text": [
      "{'1_': {'attribute': 0.0, 'split_value': 1.581876991537185, 'right_label': '1_1_', 'left_label': '1_2_'}, '1_1_': {'attribute': 0.0, 'split_value': 0.21735301410996216, 'right_label': '1_1_1_', 'left_label': '1_1_2_'}, '1_1_1_': {'attribute': 0.0, 'split_value': -0.050830976481100236, 'right_label': '1_1_1_1_', 'left_label': '1_1_1_2_'}, '1_1_1_1_': {'attribute': 0.0, 'split_value': -1.7831435655549073, 'right_label': '1_1_1_1_1_', 'left_label': '1_1_1_1_2_'}, '1_1_1_1_1_': {'attribute': 0.0, 'split_value': -2.042665895283238, 'right_label': '1_1_1_1_1_1_', 'left_label': '1_1_1_1_1_2_'}, '1_1_1_1_1_1_': 0.8261904736542662, '1_1_1_1_1_2_': -1.0176165563536546, '1_1_1_1_2_': 0.12492188813852269, '1_1_1_2_': 1.8136665758789074, '1_1_2_': -0.9339787505041518, '1_2_': 0.7521957128156073}\n",
      "[0.7521957128156073, 0.7521957128156073, 0.7521957128156073, 0.7521957128156073, 0.7521957128156073, 0.7521957128156073, 0.7521957128156073, 0.7521957128156073, 0.7521957128156073, 0.7521957128156073, 0.7521957128156073, 0.7521957128156073, 0.7521957128156073, 0.7521957128156073, 0.7521957128156073, 0.8261904736542662, 0.7521957128156073, 0.7521957128156073, 0.8261904736542662, 0.7521957128156073, 0.7521957128156073, 0.7521957128156073, 0.7521957128156073, 0.7521957128156073, 0.7521957128156073, 0.7521957128156073, 0.7521957128156073, 0.7521957128156073, 0.7521957128156073, 0.8261904736542662]\n"
     ]
    }
   ],
   "source": [
    "N = 30\n",
    "P = 5\n",
    "X = pd.DataFrame(np.random.randn(N, P))\n",
    "y = pd.Series(np.random.randn(N))\n",
    "\n",
    "\n",
    "for criteria in [\"squared_error\"]:\n",
    "    tree = DecisionTree(criterion=criteria)  # Split based on Inf. Gain\n",
    "    tree.fit(X, y)\n",
    "    y_hat = tree.predict(X)\n",
    "    print(y_hat)\n",
    "    # tree.plot()\n",
    "    # print(\"Criteria :\", criteria)\n",
    "    # print(\"RMSE: \", rmse(y_hat, y))\n",
    "    # print(\"MAE: \", mae(y_hat, y))\n"
   ]
  },
  {
   "cell_type": "code",
   "execution_count": 32,
   "metadata": {},
   "outputs": [
    {
     "name": "stdout",
     "output_type": "stream",
     "text": [
      "{'1_': {'attribute': '1_1', 'right_label': '1_2_', 'left_label': '1_1_'}, '1_1_': {'attribute': '3_1', 'right_label': '1_1_2_', 'left_label': '1_1_1_'}, '1_1_1_': {'attribute': '1_0', 'right_label': '1_1_1_2_', 'left_label': '1_1_1_1_'}, '1_1_1_1_': {'attribute': '0_1', 'right_label': '1_1_1_1_2_', 'left_label': '1_1_1_1_1_'}, '1_1_1_1_1_': {'attribute': '1_3', 'right_label': '1_1_1_1_1_2_', 'left_label': '1_1_1_1_1_1_'}, '1_1_1_1_1_1_': 3, '1_1_1_1_1_2_': 0, '1_1_1_1_2_': 2, '1_1_1_2_': 1, '1_1_2_': 1, '1_2_': 1}\n",
      "Accuracy:  0.5333333333333333\n",
      "{'1_': {'attribute': '1_1', 'right_label': '1_2_', 'left_label': '1_1_'}, '1_1_': {'attribute': '0_1', 'right_label': '1_1_2_', 'left_label': '1_1_1_'}, '1_1_1_': {'attribute': '1_3', 'right_label': '1_1_1_2_', 'left_label': '1_1_1_1_'}, '1_1_1_1_': {'attribute': '1_2', 'right_label': '1_1_1_1_2_', 'left_label': '1_1_1_1_1_'}, '1_1_1_1_1_': {'attribute': '2_4', 'right_label': '1_1_1_1_1_2_', 'left_label': '1_1_1_1_1_1_'}, '1_1_1_1_1_1_': 1, '1_1_1_1_1_2_': 2, '1_1_1_1_2_': 0, '1_1_1_2_': 0, '1_1_2_': 2, '1_2_': 1}\n",
      "Accuracy:  0.5333333333333333\n"
     ]
    }
   ],
   "source": [
    "# Test case 3\n",
    "# Discrete Input and Discrete Output\n",
    "\n",
    "N = 30\n",
    "P = 5\n",
    "X = pd.DataFrame({i: pd.Series(np.random.randint(P, size=N), dtype=\"category\") for i in range(5)})\n",
    "y = pd.Series(np.random.randint(P, size=N), dtype=\"category\")\n",
    "\n",
    "for criteria in [\"entropy\", \"gini_index\"]:\n",
    "    tree = DecisionTree(criterion=criteria)  # Split based on Inf. Gain\n",
    "    tree.fit(X, y)\n",
    "    y_hat = tree.predict(X)\n",
    "    # tree.plot()\n",
    "    # print(\"Criteria :\", criteria)\n",
    "    print(\"Accuracy: \", accuracy(y_hat, y))\n",
    "    # for cls in y.unique():\n",
    "    #     print(\"Precision: \", precision(y_hat, y, cls))\n",
    "    #     print(\"Recall: \", recall(y_hat, y, cls))"
   ]
  },
  {
   "cell_type": "code",
   "execution_count": 24,
   "metadata": {},
   "outputs": [
    {
     "name": "stdout",
     "output_type": "stream",
     "text": [
      "{'1_': {'attribute': '0_0', 'right_label': '1_2_', 'left_label': '1_1_'}, '1_1_': {'attribute': '0_4', 'right_label': '1_1_2_', 'left_label': '1_1_1_'}, '1_1_1_': {'attribute': '1_2', 'right_label': '1_1_1_2_', 'left_label': '1_1_1_1_'}, '1_1_1_1_': {'attribute': '3_3', 'right_label': '1_1_1_1_2_', 'left_label': '1_1_1_1_1_'}, '1_1_1_1_1_': {'attribute': '2_0', 'right_label': '1_1_1_1_1_2_', 'left_label': '1_1_1_1_1_1_'}, '1_1_1_1_1_1_': 0.9628530278630554, '1_1_1_1_1_2_': 1.7092924947296217, '1_1_1_1_2_': 0.6148939578869408, '1_1_1_2_': -0.39837339017694856, '1_1_2_': -0.4248790464559558, '1_2_': -0.5655991060977654}\n",
      "[0.9628530278630554, -0.4248790464559558, -0.4248790464559558, 0.6148939578869408, 0.6148939578869408, 0.9628530278630554, -0.4248790464559558, -0.4248790464559558, -0.5655991060977654, -0.4248790464559558, -0.5655991060977654, 0.9628530278630554, 1.7092924947296217, 0.9628530278630554, -0.5655991060977654, -0.39837339017694856, -0.4248790464559558, 0.9628530278630554, -0.5655991060977654, 0.9628530278630554, -0.5655991060977654, -0.5655991060977654, 0.6148939578869408, -0.4248790464559558, -0.5655991060977654, 0.9628530278630554, 0.9628530278630554, -0.5655991060977654, -0.5655991060977654, 0.6148939578869408]\n"
     ]
    }
   ],
   "source": [
    "\n",
    "N = 30\n",
    "P = 5\n",
    "X = pd.DataFrame({i: pd.Series(np.random.randint(P, size=N), dtype=\"category\") for i in range(5)})\n",
    "y = pd.Series(np.random.randn(N))\n",
    "\n",
    "for criteria in [\"mse\"]:\n",
    "    tree = DecisionTree(criterion=criteria)  # Split based on Inf. Gain\n",
    "    tree.fit(X, y)\n",
    "    y_hat = tree.predict(X)\n",
    "    print(y_hat)\n",
    "    tree.plot()\n",
    "    # print(\"Criteria :\", criteria)\n",
    "    # print(\"RMSE: \", rmse(y_hat, y))\n",
    "    # print(\"MAE: \", mae(y_hat, y))"
   ]
  },
  {
   "cell_type": "code",
   "execution_count": 25,
   "metadata": {},
   "outputs": [
    {
     "name": "stdout",
     "output_type": "stream",
     "text": [
      "yes\n"
     ]
    }
   ],
   "source": [
    "import numpy as np\n",
    "\n",
    "# Input list\n",
    "data = [\"yes\", \"yes\", \"no\"]\n",
    "\n",
    "# Use np.unique to get the unique elements and their counts\n",
    "values, counts = np.unique(data, return_counts=True)\n",
    "\n",
    "# Find the index of the maximum count\n",
    "most_occurring = values[np.argmax(counts)]\n",
    "\n",
    "# Print the most occurring value\n",
    "print(most_occurring)\n"
   ]
  },
  {
   "cell_type": "code",
   "execution_count": 26,
   "metadata": {},
   "outputs": [
    {
     "data": {
      "text/plain": [
       "True"
      ]
     },
     "execution_count": 26,
     "metadata": {},
     "output_type": "execute_result"
    }
   ],
   "source": [
    "dict_ = {}\n",
    "type(dict_)==dict"
   ]
  },
  {
   "cell_type": "code",
   "execution_count": 27,
   "metadata": {},
   "outputs": [
    {
     "name": "stdout",
     "output_type": "stream",
     "text": [
      "0     0.668101\n",
      "1    -0.189208\n",
      "2     0.579303\n",
      "3     0.497292\n",
      "4     0.762847\n",
      "5     0.637967\n",
      "6    -0.442432\n",
      "7     0.458710\n",
      "8     0.653400\n",
      "9    -1.291124\n",
      "10   -0.274044\n",
      "11    0.608114\n",
      "12    1.709292\n",
      "13    0.824900\n",
      "14    1.772378\n",
      "15   -0.398373\n",
      "16    0.250190\n",
      "17    0.805735\n",
      "18   -2.326352\n",
      "19    1.510803\n",
      "20   -1.860910\n",
      "21    0.996940\n",
      "22    0.686832\n",
      "23   -2.339593\n",
      "24   -2.289061\n",
      "25    1.432482\n",
      "26    1.214722\n",
      "27   -0.880864\n",
      "28   -0.881879\n",
      "29    0.512605\n",
      "dtype: float64\n"
     ]
    }
   ],
   "source": [
    "print(y)"
   ]
  },
  {
   "cell_type": "code",
   "execution_count": 28,
   "metadata": {},
   "outputs": [
    {
     "name": "stdout",
     "output_type": "stream",
     "text": [
      "[0.9628530278630554, -0.4248790464559558, -0.4248790464559558, 0.6148939578869408, 0.6148939578869408, 0.9628530278630554, -0.4248790464559558, -0.4248790464559558, -0.5655991060977654, -0.4248790464559558, -0.5655991060977654, 0.9628530278630554, 1.7092924947296217, 0.9628530278630554, -0.5655991060977654, -0.39837339017694856, -0.4248790464559558, 0.9628530278630554, -0.5655991060977654, 0.9628530278630554, -0.5655991060977654, -0.5655991060977654, 0.6148939578869408, -0.4248790464559558, -0.5655991060977654, 0.9628530278630554, 0.9628530278630554, -0.5655991060977654, -0.5655991060977654, 0.6148939578869408]\n"
     ]
    }
   ],
   "source": [
    "print(y_hat)"
   ]
  }
 ],
 "metadata": {
  "kernelspec": {
   "display_name": "Python 3",
   "language": "python",
   "name": "python3"
  },
  "language_info": {
   "codemirror_mode": {
    "name": "ipython",
    "version": 3
   },
   "file_extension": ".py",
   "mimetype": "text/x-python",
   "name": "python",
   "nbconvert_exporter": "python",
   "pygments_lexer": "ipython3",
   "version": "3.12.0"
  }
 },
 "nbformat": 4,
 "nbformat_minor": 2
}
