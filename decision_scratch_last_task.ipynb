{
 "cells": [
  {
   "cell_type": "markdown",
   "metadata": {},
   "source": [
    "# Purpose \n",
    "\n",
    "the purpose of this notebook is to demonstrate the working of the from scratch implementation of a decision tree"
   ]
  },
  {
   "cell_type": "code",
   "execution_count": 1,
   "metadata": {},
   "outputs": [],
   "source": [
    "from metrics import *\n",
    "\n",
    "import pandas as pd\n",
    "import numpy as np"
   ]
  },
  {
   "cell_type": "code",
   "execution_count": 2,
   "metadata": {},
   "outputs": [
    {
     "name": "stdout",
     "output_type": "stream",
     "text": [
      "Training data shape:  (126, 500, 3)\n",
      "Testing data shape:  (54, 500, 3)\n"
     ]
    }
   ],
   "source": [
    "from MakeDataset import X_train,X_test,y_train,y_test"
   ]
  },
  {
   "cell_type": "markdown",
   "metadata": {},
   "source": [
    "# metrics"
   ]
  },
  {
   "cell_type": "markdown",
   "metadata": {},
   "source": [
    "## Accuracy "
   ]
  },
  {
   "cell_type": "code",
   "execution_count": 3,
   "metadata": {},
   "outputs": [],
   "source": [
    "def accuracy(y_hat: pd.Series, y: pd.Series) -> float:\n",
    "    \"\"\"\n",
    "    Function to calculate the accuracy.\n",
    "    \"\"\"\n",
    "    # Assert that y_hat and y have the same length\n",
    "    assert y_hat.size == y.size, \"Size of y_hat and y must be equal.\"\n",
    "\n",
    "    \n",
    "    numerator = (y_hat == y).sum()\n",
    "    #print(f\"Numerator (correct predictions): {numerator}\")\n",
    "\n",
    "   \n",
    "    denominator = y.size\n",
    "    #print(f\"Denominator (total predictions): {denominator}\")\n",
    "\n",
    "    \n",
    "    accuracy = numerator / denominator\n",
    "    return accuracy * 100"
   ]
  },
  {
   "cell_type": "code",
   "execution_count": 4,
   "metadata": {},
   "outputs": [
    {
     "name": "stdout",
     "output_type": "stream",
     "text": [
      "Accuracy: 100.0%\n"
     ]
    }
   ],
   "source": [
    "# Define y_hat and y\n",
    "y_hat = pd.Series(['yes', 1, 1,1])\n",
    "y = pd.Series(['yes', 1, 1,1])\n",
    "\n",
    "# Correctly compute accuracy using the function from mn\n",
    "accuracy_result = accuracy(y_hat, y)\n",
    "\n",
    "# Display the result\n",
    "print(f\"Accuracy: {accuracy_result}%\")"
   ]
  },
  {
   "cell_type": "code",
   "execution_count": 5,
   "metadata": {},
   "outputs": [
    {
     "data": {
      "text/plain": [
       "'\\nVariations of the problem:\\n1) Discrete I/P, Discrete O/P => classficiation \\n2) Discrete I/P, Real O/P => regression \\n3) Real I/P, Discrete O/P => classification\\n3) Real I/P, Real O/P => regression\\n'"
      ]
     },
     "execution_count": 5,
     "metadata": {},
     "output_type": "execute_result"
    }
   ],
   "source": [
    "'''\n",
    "Variations of the problem:\n",
    "1) Discrete I/P, Discrete O/P => classficiation \n",
    "2) Discrete I/P, Real O/P => regression \n",
    "3) Real I/P, Discrete O/P => classification\n",
    "3) Real I/P, Real O/P => regression\n",
    "'''"
   ]
  },
  {
   "cell_type": "markdown",
   "metadata": {},
   "source": [
    "## Precision"
   ]
  },
  {
   "cell_type": "code",
   "execution_count": 6,
   "metadata": {},
   "outputs": [],
   "source": [
    "def precision(y_hat: pd.Series, y: pd.Series, cls: Union[int, str]) -> float:\n",
    "    \"\"\"\n",
    "    Function to calculate the precision. Defined only for 1) and 3). \n",
    "    \"\"\"\n",
    "    true_positives = ((y_hat == cls) & (y == cls)).sum()\n",
    "    \n",
    "    # Calculate predicted positives\n",
    "    gnd_positives = (y == cls).sum()\n",
    "    \n",
    "    return true_positives / gnd_positives if gnd_positives != 0 else 0.0"
   ]
  },
  {
   "cell_type": "code",
   "execution_count": 7,
   "metadata": {},
   "outputs": [
    {
     "data": {
      "text/plain": [
       "1.0"
      ]
     },
     "execution_count": 7,
     "metadata": {},
     "output_type": "execute_result"
    }
   ],
   "source": [
    "y_hat = pd.Series(['yes', 1, 1, 1])\n",
    "y = pd.Series(['yes', 1, 0, 1])\n",
    "precision(y_hat, y, 1)"
   ]
  },
  {
   "cell_type": "markdown",
   "metadata": {},
   "source": [
    "## recall "
   ]
  },
  {
   "cell_type": "code",
   "execution_count": 8,
   "metadata": {},
   "outputs": [],
   "source": [
    "def recall(y_hat: pd.Series, y: pd.Series, cls: Union[int, str]) -> float:\n",
    "    \"\"\"\n",
    "    Function to calculate the precision. Defined only for 1) and 3). \n",
    "    \"\"\"\n",
    "    true_positives = ((y_hat == cls) & (y == cls)).sum()\n",
    "    \n",
    "    # Calculate predicted positives\n",
    "    gnd_positives = (y == cls).sum()\n",
    "    \n",
    "    return true_positives / gnd_positives if gnd_positives != 0 else 0.0\n"
   ]
  },
  {
   "cell_type": "code",
   "execution_count": 9,
   "metadata": {},
   "outputs": [
    {
     "data": {
      "text/plain": [
       "1.0"
      ]
     },
     "execution_count": 9,
     "metadata": {},
     "output_type": "execute_result"
    }
   ],
   "source": [
    "y_hat = pd.Series(['yes', 1, 1, 1])\n",
    "y = pd.Series(['yes', 1, 0, 1])\n",
    "recall(y_hat, y, 1)"
   ]
  },
  {
   "cell_type": "markdown",
   "metadata": {},
   "source": [
    "## rmse "
   ]
  },
  {
   "cell_type": "code",
   "execution_count": 10,
   "metadata": {},
   "outputs": [],
   "source": [
    "def rmse(y_hat: pd.Series, y: pd.Series) -> float:\n",
    "    \"\"\"\n",
    "    Function to calculate the root-mean-squared-error(rmse). Defined only for 2) and 4).\n",
    "    \"\"\"\n",
    "\n",
    "    assert y_hat.size == y.size, \"Size of y_hat and y must be equal.\"\n",
    "\n",
    "    y_hat = np.array(y_hat)\n",
    "    y = np.array(y)\n",
    "    numerator = np.sum((y_hat-y)**2)\n",
    "    denominator = y.size\n",
    "\n",
    "    return np.sqrt(numerator/denominator)\n"
   ]
  },
  {
   "cell_type": "code",
   "execution_count": 11,
   "metadata": {},
   "outputs": [
    {
     "data": {
      "text/plain": [
       "10.0"
      ]
     },
     "execution_count": 11,
     "metadata": {},
     "output_type": "execute_result"
    }
   ],
   "source": [
    "y_hat =pd.Series([10,20])\n",
    "y = pd.Series([20,30])\n",
    "\n",
    "rmse(y_hat,y)"
   ]
  },
  {
   "cell_type": "markdown",
   "metadata": {},
   "source": [
    "## mae"
   ]
  },
  {
   "cell_type": "code",
   "execution_count": 12,
   "metadata": {},
   "outputs": [],
   "source": [
    "def mae(y_hat: pd.Series, y: pd.Series) -> float:\n",
    "    \"\"\"\n",
    "    Function to calculate the mean-absolute-error(mae). Defined only for 2) and 4).\n",
    "    \"\"\"\n",
    "    assert y_hat.size == y.size, \"Size of y_hat and y must be equal.\"\n",
    "    assert y.size, \"Ground Truth array is 0\"\n",
    "    assert y_hat.size, \"Predicition array is 0\"\n",
    "\n",
    "\n",
    "    y_hat = np.array(y_hat)\n",
    "    y = np.array(y)\n",
    "    numerator = np.sum((np.abs(y_hat-y)))\n",
    "\n",
    "    denominator = y.size\n",
    "\n",
    "    return numerator/denominator\n"
   ]
  },
  {
   "cell_type": "code",
   "execution_count": 13,
   "metadata": {},
   "outputs": [
    {
     "data": {
      "text/plain": [
       "9.5"
      ]
     },
     "execution_count": 13,
     "metadata": {},
     "output_type": "execute_result"
    }
   ],
   "source": [
    "y_hat =pd.Series([11,20])\n",
    "y = pd.Series([20,30])\n",
    "\n",
    "mae(y_hat,y)"
   ]
  },
  {
   "cell_type": "markdown",
   "metadata": {},
   "source": [
    "# trying decision tree"
   ]
  },
  {
   "cell_type": "code",
   "execution_count": 14,
   "metadata": {},
   "outputs": [],
   "source": [
    "import numpy as np\n",
    "import pandas as pd\n",
    "import matplotlib.pyplot as plt\n",
    "from tree.base import DecisionTree\n",
    "from metrics import *\n",
    "\n",
    "np.random.seed(42)"
   ]
  },
  {
   "cell_type": "code",
   "execution_count": 15,
   "metadata": {},
   "outputs": [],
   "source": [
    "import pandas as pd\n",
    "import numpy as np"
   ]
  },
  {
   "cell_type": "code",
   "execution_count": 16,
   "metadata": {},
   "outputs": [],
   "source": [
    "from tree.base import DecisionTree"
   ]
  },
  {
   "cell_type": "code",
   "execution_count": 17,
   "metadata": {},
   "outputs": [],
   "source": [
    "# Real Input and Discrete Output"
   ]
  },
  {
   "cell_type": "code",
   "execution_count": 18,
   "metadata": {},
   "outputs": [
    {
     "data": {
      "text/plain": [
       "0    20\n",
       "1    30\n",
       "dtype: int64"
      ]
     },
     "execution_count": 18,
     "metadata": {},
     "output_type": "execute_result"
    }
   ],
   "source": [
    "y"
   ]
  },
  {
   "cell_type": "code",
   "execution_count": 20,
   "metadata": {},
   "outputs": [
    {
     "name": "stdout",
     "output_type": "stream",
     "text": [
      "rd\n",
      "shape of info_gain 29\n",
      "this is df returend\n",
      "   Split values  information_gain\n",
      "0      0.977094          0.300955\n",
      "1      0.884188          0.254634\n",
      "2      0.694632          0.229213\n",
      "3      0.525047          0.227636\n",
      "4     -0.458832          0.212454\n",
      "shape of info_gain 29\n",
      "this is df returend\n",
      "   Split values  information_gain\n",
      "0     -0.585948          0.134637\n",
      "1      0.375137          0.113973\n",
      "2      0.645955          0.109777\n",
      "3      0.702952          0.109262\n",
      "4     -1.237132          0.102672\n",
      "shape of info_gain 29\n",
      "this is df returend\n",
      "   Split values  information_gain\n",
      "0      0.265623          0.181645\n",
      "1      0.475600          0.180864\n",
      "2      0.502512          0.165693\n",
      "3     -0.667395          0.164481\n",
      "4      1.573952          0.156193\n",
      "shape of info_gain 29\n",
      "this is df returend\n",
      "   Split values  information_gain\n",
      "0      0.428835          0.174164\n",
      "1     -0.423352          0.173649\n",
      "2     -0.914279          0.167904\n",
      "3      0.175045          0.155597\n",
      "4      0.129241          0.153306\n",
      "shape of info_gain 29\n",
      "this is df returend\n",
      "   Split values  information_gain\n",
      "0     -0.744999          0.184685\n",
      "1      0.383029          0.139256\n",
      "2     -0.735964          0.137248\n",
      "3      0.600887          0.130847\n",
      "4      0.681032          0.124372\n",
      "####################\n",
      "this is the final df\n",
      "   attribute  split_point  sel_or_infogain\n",
      "0        0.0     0.977094         0.300955\n",
      "1        1.0    -0.585948         0.134637\n",
      "2        2.0     0.265623         0.181645\n",
      "3        3.0     0.428835         0.174164\n",
      "4        4.0    -0.744999         0.184685\n",
      "0     3\n",
      "1     2\n",
      "2     4\n",
      "3     3\n",
      "4     4\n",
      "5     0\n",
      "6     4\n",
      "7     4\n",
      "8     1\n",
      "9     1\n",
      "10    1\n",
      "11    4\n",
      "12    2\n",
      "13    4\n",
      "14    2\n",
      "15    2\n",
      "16    1\n",
      "17    3\n",
      "18    0\n",
      "19    1\n",
      "20    1\n",
      "21    3\n",
      "22    0\n",
      "23    4\n",
      "24    4\n",
      "25    1\n",
      "26    0\n",
      "27    1\n",
      "28    2\n",
      "29    1\n",
      "dtype: category\n",
      "Categories (5, int32): [0, 1, 2, 3, 4]\n",
      "shape of info_gain 23\n",
      "this is df returend\n",
      "   Split values  information_gain\n",
      "0     -1.783144          0.212930\n",
      "1     -1.909349          0.195710\n",
      "2      0.525047          0.137925\n",
      "3     -0.846368          0.127444\n",
      "4     -1.618409          0.120004\n",
      "shape of info_gain 23\n",
      "this is df returend\n",
      "   Split values  information_gain\n",
      "0      0.381212          0.199749\n",
      "1      0.530569          0.167507\n",
      "2     -0.585948          0.152318\n",
      "3      0.702952          0.124165\n",
      "4     -0.657017          0.107920\n",
      "shape of info_gain 23\n",
      "this is df returend\n",
      "   Split values  information_gain\n",
      "0     -0.667395          0.204865\n",
      "1     -0.936853          0.192997\n",
      "2      0.265623          0.188169\n",
      "3      0.475600          0.181970\n",
      "4     -0.498159          0.163058\n",
      "shape of info_gain 23\n",
      "this is df returend\n",
      "   Split values  information_gain\n",
      "0      0.168642          0.251629\n",
      "1     -1.244482          0.249882\n",
      "2     -1.015312          0.232629\n",
      "3     -0.640650          0.227163\n",
      "4      0.360792          0.219386\n",
      "shape of info_gain 23\n",
      "this is df returend\n",
      "   Split values  information_gain\n",
      "0     -0.744999          0.249882\n",
      "1     -0.700834          0.247589\n",
      "2     -0.735964          0.232629\n",
      "3     -0.667959          0.172859\n",
      "4     -0.607333          0.171884\n",
      "####################\n",
      "this is the final df\n",
      "   attribute  split_point  sel_or_infogain\n",
      "0        0.0    -1.783144         0.212930\n",
      "1        1.0     0.381212         0.199749\n",
      "2        2.0    -0.667395         0.204865\n",
      "3        3.0     0.168642         0.251629\n",
      "4        4.0    -0.744999         0.249882\n",
      "0     3\n",
      "2     4\n",
      "3     3\n",
      "4     4\n",
      "5     0\n",
      "6     4\n",
      "7     4\n",
      "8     1\n",
      "9     1\n",
      "10    1\n",
      "11    4\n",
      "12    2\n",
      "13    4\n",
      "14    2\n",
      "16    1\n",
      "17    3\n",
      "19    1\n",
      "20    1\n",
      "21    3\n",
      "23    4\n",
      "24    4\n",
      "25    1\n",
      "27    1\n",
      "28    2\n",
      "Name: y_label, dtype: category\n",
      "Categories (5, int32): [0, 1, 2, 3, 4]\n",
      "shape of info_gain 3\n",
      "this is df returend\n",
      "   Split values  information_gain\n",
      "0     -2.042666          0.311278\n",
      "1     -1.909349          0.311278\n",
      "2     -1.967884          0.000000\n",
      "shape of info_gain 3\n",
      "this is df returend\n",
      "   Split values  information_gain\n",
      "0      0.381212          1.000000\n",
      "1     -0.041824          0.311278\n",
      "2      1.018423          0.311278\n",
      "shape of info_gain 3\n",
      "this is df returend\n",
      "   Split values  information_gain\n",
      "0     -0.245328          0.311278\n",
      "1      0.333582          0.311278\n",
      "2      0.094917          0.000000\n",
      "shape of info_gain 3\n",
      "this is df returend\n",
      "   Split values  information_gain\n",
      "0     -0.292610          0.311278\n",
      "1      0.389318          0.311278\n",
      "2     -0.107822          0.000000\n",
      "shape of info_gain 3\n",
      "this is df returend\n",
      "   Split values  information_gain\n",
      "0     -0.511490          0.311278\n",
      "1      0.354146          0.311278\n",
      "2     -0.261451          0.000000\n",
      "####################\n",
      "this is the final df\n",
      "   attribute  split_point  sel_or_infogain\n",
      "0        0.0    -2.042666         0.311278\n",
      "1        1.0     0.381212         1.000000\n",
      "2        2.0    -0.245328         0.311278\n",
      "3        3.0    -0.292610         0.311278\n",
      "4        4.0    -0.511490         0.311278\n",
      "3     3\n",
      "10    1\n",
      "17    3\n",
      "25    1\n",
      "Name: y_label, dtype: category\n",
      "Categories (5, int32): [0, 1, 2, 3, 4]\n",
      "shape of info_gain 2\n",
      "this is df returend\n",
      "   Split values  information_gain\n",
      "0     -1.967884          0.251629\n",
      "1     -1.909349          0.251629\n",
      "shape of info_gain 2\n",
      "this is df returend\n",
      "   Split values  information_gain\n",
      "0      0.381212          0.918296\n",
      "1      1.018423          0.251629\n",
      "shape of info_gain 2\n",
      "this is df returend\n",
      "   Split values  information_gain\n",
      "0     -0.245328          0.251629\n",
      "1      0.289295          0.251629\n",
      "shape of info_gain 2\n",
      "this is df returend\n",
      "   Split values  information_gain\n",
      "0     -0.292610          0.251629\n",
      "1      0.279683          0.251629\n",
      "shape of info_gain 2\n",
      "this is df returend\n",
      "   Split values  information_gain\n",
      "0     -0.511490          0.251629\n",
      "1     -0.261451          0.251629\n",
      "####################\n",
      "this is the final df\n",
      "   attribute  split_point  sel_or_infogain\n",
      "0        0.0    -1.967884         0.251629\n",
      "1        1.0     0.381212         0.918296\n",
      "2        2.0    -0.245328         0.251629\n",
      "3        3.0    -0.292610         0.251629\n",
      "4        4.0    -0.511490         0.251629\n",
      "3     3\n",
      "10    1\n",
      "25    1\n",
      "Name: y_label, dtype: category\n",
      "Categories (5, int32): [0, 1, 2, 3, 4]\n",
      "shape of info_gain 1\n",
      "this is df returend\n",
      "   Split values  information_gain\n",
      "0     -1.909349               1.0\n",
      "shape of info_gain 1\n",
      "this is df returend\n",
      "   Split values  information_gain\n",
      "0       0.97361               1.0\n",
      "shape of info_gain 1\n",
      "this is df returend\n",
      "   Split values  information_gain\n",
      "0      0.289295               1.0\n",
      "shape of info_gain 1\n",
      "this is df returend\n",
      "   Split values  information_gain\n",
      "0      -0.29261               1.0\n",
      "shape of info_gain 1\n",
      "this is df returend\n",
      "   Split values  information_gain\n",
      "0      -0.51149               1.0\n",
      "####################\n",
      "this is the final df\n",
      "   attribute  split_point  sel_or_infogain\n",
      "0        0.0    -1.909349              1.0\n",
      "1        1.0     0.973610              1.0\n",
      "2        2.0     0.289295              1.0\n",
      "3        3.0    -0.292610              1.0\n",
      "4        4.0    -0.511490              1.0\n",
      "3     3\n",
      "25    1\n",
      "Name: y_label, dtype: category\n",
      "Categories (5, int32): [0, 1, 2, 3, 4]\n",
      "{'1_': {'attribute': 0.0, 'split_value': 0.9770939319317088, 'right_label': '1_1_', 'left_label': '1_2_'}, '1_1_': {'attribute': 0.0, 'split_value': -1.7831435655549073, 'right_label': '1_1_1_', 'left_label': '1_1_2_'}, '1_1_1_': {'attribute': 0.0, 'split_value': -2.042665895283238, 'right_label': '1_1_1_1_', 'left_label': '1_1_1_2_'}, '1_1_1_1_': 3, '1_1_1_2_': {'attribute': 0.0, 'split_value': -1.9678836901405068, 'right_label': '1_1_1_2_1_', 'left_label': '1_1_1_2_2_'}, '1_1_1_2_1_': 1, '1_1_1_2_2_': {'attribute': 0.0, 'split_value': -1.9093492343045557, 'right_label': '1_1_1_2_2_1_', 'left_label': '1_1_1_2_2_2_'}}\n",
      "rd\n",
      "shape of info_gain 29\n",
      "this is df returend\n",
      "   Split values  information_gain\n",
      "0      0.977094          0.067222\n",
      "1      0.884188          0.060028\n",
      "2      0.694632          0.050556\n",
      "3      0.525047          0.049630\n",
      "4      1.107852          0.044889\n",
      "shape of info_gain 29\n",
      "this is df returend\n",
      "   Split values  information_gain\n",
      "0     -1.237132          0.033027\n",
      "1     -0.585948          0.032222\n",
      "2      0.702952          0.026222\n",
      "3      1.781050          0.023831\n",
      "4     -1.048226          0.023175\n",
      "shape of info_gain 29\n",
      "this is df returend\n",
      "   Split values  information_gain\n",
      "0      1.573952          0.039753\n",
      "1      0.475600          0.038889\n",
      "2     -0.667395          0.035404\n",
      "3      0.502512          0.033757\n",
      "4      1.127008          0.033248\n",
      "shape of info_gain 29\n",
      "this is df returend\n",
      "   Split values  information_gain\n",
      "0     -0.423352          0.042222\n",
      "1     -0.914279          0.038376\n",
      "2      0.428835          0.035404\n",
      "3      1.362204          0.034815\n",
      "4     -0.640650          0.034222\n",
      "shape of info_gain 29\n",
      "this is df returend\n",
      "   Split values  information_gain\n",
      "0     -0.744999          0.044691\n",
      "1      1.783927          0.044603\n",
      "2     -1.021484          0.033027\n",
      "3     -0.735964          0.028120\n",
      "4      0.383029          0.024678\n",
      "####################\n",
      "this is the final df\n",
      "   attribute  split_point  sel_or_infogain\n",
      "0        0.0     0.977094         0.067222\n",
      "1        1.0    -1.237132         0.033027\n",
      "2        2.0     1.573952         0.039753\n",
      "3        3.0    -0.423352         0.042222\n",
      "4        4.0    -0.744999         0.044691\n",
      "0     3\n",
      "1     2\n",
      "2     4\n",
      "3     3\n",
      "4     4\n",
      "5     0\n",
      "6     4\n",
      "7     4\n",
      "8     1\n",
      "9     1\n",
      "10    1\n",
      "11    4\n",
      "12    2\n",
      "13    4\n",
      "14    2\n",
      "15    2\n",
      "16    1\n",
      "17    3\n",
      "18    0\n",
      "19    1\n",
      "20    1\n",
      "21    3\n",
      "22    0\n",
      "23    4\n",
      "24    4\n",
      "25    1\n",
      "26    0\n",
      "27    1\n",
      "28    2\n",
      "29    1\n",
      "dtype: category\n",
      "Categories (5, int32): [0, 1, 2, 3, 4]\n",
      "shape of info_gain 23\n",
      "this is df returend\n",
      "   Split values  information_gain\n",
      "0     -1.909349          0.054067\n",
      "1     -1.783144          0.053472\n",
      "2     -2.042666          0.040610\n",
      "3      0.884188          0.040610\n",
      "4      0.525047          0.038194\n",
      "shape of info_gain 23\n",
      "this is df returend\n",
      "   Split values  information_gain\n",
      "0     -0.585948          0.036560\n",
      "1      0.381212          0.034722\n",
      "2      0.702952          0.032639\n",
      "3     -1.048226          0.026117\n",
      "4      1.781050          0.026117\n",
      "shape of info_gain 23\n",
      "this is df returend\n",
      "   Split values  information_gain\n",
      "0      0.475600          0.056713\n",
      "1      0.653034          0.042163\n",
      "2     -1.388954          0.038194\n",
      "3      0.443898          0.036560\n",
      "4     -0.667395          0.035160\n",
      "shape of info_gain 23\n",
      "this is df returend\n",
      "   Split values  information_gain\n",
      "0      1.362204          0.054609\n",
      "1     -1.244482          0.051479\n",
      "2      0.168642          0.050347\n",
      "3      0.360792          0.045664\n",
      "4     -0.423352          0.036806\n",
      "shape of info_gain 23\n",
      "this is df returend\n",
      "   Split values  information_gain\n",
      "0      1.783927          0.054609\n",
      "1     -0.744999          0.051479\n",
      "2     -0.700834          0.038194\n",
      "3     -0.735964          0.035669\n",
      "4      2.571766          0.026117\n",
      "####################\n",
      "this is the final df\n",
      "   attribute  split_point  sel_or_infogain\n",
      "0        0.0    -1.909349         0.054067\n",
      "1        1.0    -0.585948         0.036560\n",
      "2        2.0     0.475600         0.056713\n",
      "3        3.0     1.362204         0.054609\n",
      "4        4.0     1.783927         0.054609\n",
      "0     3\n",
      "2     4\n",
      "3     3\n",
      "4     4\n",
      "5     0\n",
      "6     4\n",
      "7     4\n",
      "8     1\n",
      "9     1\n",
      "10    1\n",
      "11    4\n",
      "12    2\n",
      "13    4\n",
      "14    2\n",
      "16    1\n",
      "17    3\n",
      "19    1\n",
      "20    1\n",
      "21    3\n",
      "23    4\n",
      "24    4\n",
      "25    1\n",
      "27    1\n",
      "28    2\n",
      "Name: y_label, dtype: category\n",
      "Categories (5, int32): [0, 1, 2, 3, 4]\n",
      "shape of info_gain 2\n",
      "this is df returend\n",
      "   Split values  information_gain\n",
      "0     -2.042666          0.111111\n",
      "1     -1.967884          0.111111\n",
      "shape of info_gain 2\n",
      "this is df returend\n",
      "   Split values  information_gain\n",
      "0      0.381212          0.444444\n",
      "1     -0.041824          0.111111\n",
      "shape of info_gain 2\n",
      "this is df returend\n",
      "   Split values  information_gain\n",
      "0     -0.245328          0.444444\n",
      "1      0.094917          0.111111\n",
      "shape of info_gain 2\n",
      "this is df returend\n",
      "   Split values  information_gain\n",
      "0      0.389318          0.444444\n",
      "1     -0.107822          0.111111\n",
      "shape of info_gain 2\n",
      "this is df returend\n",
      "   Split values  information_gain\n",
      "0     -0.261451          0.111111\n",
      "1      0.354146          0.111111\n",
      "####################\n",
      "this is the final df\n",
      "   attribute  split_point  sel_or_infogain\n",
      "0        0.0    -2.042666         0.111111\n",
      "1        1.0     0.381212         0.444444\n",
      "2        2.0    -0.245328         0.444444\n",
      "3        3.0     0.389318         0.444444\n",
      "4        4.0    -0.261451         0.111111\n",
      "3     3\n",
      "10    1\n",
      "17    3\n",
      "Name: y_label, dtype: category\n",
      "Categories (5, int32): [0, 1, 2, 3, 4]\n",
      "shape of info_gain 1\n",
      "this is df returend\n",
      "   Split values  information_gain\n",
      "0     -1.967884               0.5\n",
      "shape of info_gain 1\n",
      "this is df returend\n",
      "   Split values  information_gain\n",
      "0      0.381212               0.5\n",
      "shape of info_gain 1\n",
      "this is df returend\n",
      "   Split values  information_gain\n",
      "0     -0.245328               0.5\n",
      "shape of info_gain 1\n",
      "this is df returend\n",
      "   Split values  information_gain\n",
      "0      0.279683               0.5\n",
      "shape of info_gain 1\n",
      "this is df returend\n",
      "   Split values  information_gain\n",
      "0     -0.261451               0.5\n",
      "####################\n",
      "this is the final df\n",
      "   attribute  split_point  sel_or_infogain\n",
      "0        0.0    -1.967884              0.5\n",
      "1        1.0     0.381212              0.5\n",
      "2        2.0    -0.245328              0.5\n",
      "3        3.0     0.279683              0.5\n",
      "4        4.0    -0.261451              0.5\n",
      "3     3\n",
      "10    1\n",
      "Name: y_label, dtype: category\n",
      "Categories (5, int32): [0, 1, 2, 3, 4]\n",
      "shape of info_gain 20\n",
      "this is df returend\n",
      "   Split values  information_gain\n",
      "0      0.525047          0.055933\n",
      "1      0.884188          0.054875\n",
      "2      0.217353          0.042971\n",
      "3      0.694632          0.037833\n",
      "4     -0.458832          0.034769\n",
      "shape of info_gain 20\n",
      "this is df returend\n",
      "   Split values  information_gain\n",
      "0     -0.585948          0.038549\n",
      "1      0.702952          0.037018\n",
      "2     -0.525459          0.029784\n",
      "3     -1.048226          0.026304\n",
      "4      1.781050          0.026304\n",
      "shape of info_gain 20\n",
      "this is df returend\n",
      "   Split values  information_gain\n",
      "0      0.475600          0.067574\n",
      "1     -0.624269          0.052154\n",
      "2      0.653034          0.050642\n",
      "3     -0.936853          0.048526\n",
      "4     -1.388954          0.045351\n",
      "shape of info_gain 20\n",
      "this is df returend\n",
      "   Split values  information_gain\n",
      "0     -1.244482          0.059637\n",
      "1      1.362204          0.055377\n",
      "2     -0.423352          0.048153\n",
      "3     -0.640650          0.045351\n",
      "4      0.360792          0.045351\n",
      "shape of info_gain 20\n",
      "this is df returend\n",
      "   Split values  information_gain\n",
      "0      1.783927          0.065402\n",
      "1     -0.744999          0.059637\n",
      "2     -0.700834          0.040060\n",
      "3     -0.192048          0.039291\n",
      "4     -0.735964          0.037833\n",
      "####################\n",
      "this is the final df\n",
      "   attribute  split_point  sel_or_infogain\n",
      "0        0.0     0.525047         0.055933\n",
      "1        1.0    -0.585948         0.038549\n",
      "2        2.0     0.475600         0.067574\n",
      "3        3.0    -1.244482         0.059637\n",
      "4        4.0     1.783927         0.065402\n",
      "0     3\n",
      "2     4\n",
      "4     4\n",
      "5     0\n",
      "6     4\n",
      "7     4\n",
      "8     1\n",
      "9     1\n",
      "11    4\n",
      "12    2\n",
      "13    4\n",
      "14    2\n",
      "16    1\n",
      "19    1\n",
      "20    1\n",
      "21    3\n",
      "23    4\n",
      "24    4\n",
      "25    1\n",
      "27    1\n",
      "28    2\n",
      "Name: y_label, dtype: category\n",
      "Categories (5, int32): [0, 1, 2, 3, 4]\n",
      "{'1_': {'attribute': 0.0, 'split_value': 0.9770939319317088, 'right_label': '1_1_', 'left_label': '1_2_'}, '1_1_': {'attribute': 0.0, 'split_value': -1.9093492343045557, 'right_label': '1_1_1_', 'left_label': '1_1_2_'}, '1_1_1_': {'attribute': 0.0, 'split_value': -2.042665895283238, 'right_label': '1_1_1_1_', 'left_label': '1_1_1_2_'}, '1_1_1_1_': 3, '1_1_1_2_': {'attribute': 0.0, 'split_value': -1.9678836901405068, 'right_label': '1_1_1_2_1_', 'left_label': '1_1_1_2_2_'}, '1_1_1_2_1_': 1, '1_1_1_2_2_': 3, '1_1_2_': {'attribute': 0.0, 'split_value': 0.5250472343390546, 'right_label': '1_1_2_1_', 'left_label': '1_1_2_2_'}}\n"
     ]
    }
   ],
   "source": [
    "\n",
    "N = 30\n",
    "P = 5\n",
    "X = pd.DataFrame(np.random.randn(N, P))\n",
    "y = pd.Series(np.random.randint(P, size=N), dtype=\"category\")\n",
    "\n",
    "for criteria in [\"entropy\", \"gini_index\"]:\n",
    "    tree = DecisionTree(criterion=criteria)  # Split based on Inf. Gain\n",
    "    tree.fit(X, y)\n",
    "    y_hat = tree.predict(X)\n",
    "    # tree.plot()\n",
    "    # print(\"Criteria :\", criteria)\n",
    "    # print(\"Accuracy: \", accuracy(y_hat, y))\n",
    "    # for cls in y.unique():\n",
    "    #     print(\"Precision: \", precision(y_hat, y, cls))\n",
    "    #     print(\"Recall: \", recall(y_hat, y, cls))"
   ]
  },
  {
   "cell_type": "code",
   "execution_count": null,
   "metadata": {},
   "outputs": [
    {
     "name": "stdout",
     "output_type": "stream",
     "text": [
      "10\n"
     ]
    },
    {
     "data": {
      "text/plain": [
       "array([  1.5,   2.5,   3.5,   5. ,   6.5,   7.5,  15. ,  43. , 404.5])"
      ]
     },
     "execution_count": 27,
     "metadata": {},
     "output_type": "execute_result"
    }
   ],
   "source": [
    "attr_sorted = pd.Series([1,2,3,4,6,7,8,22,64,745])\n",
    "print(attr_sorted.size)\n",
    "# attr_sorted_half = \n",
    "attr_sorted_halfsies=(np.array(attr_sorted[0:attr_sorted.size-1]) + np.array(attr_sorted[1:attr_sorted.size])) / 2 #(taking midpoints for split)\n",
    "attr_sorted_halfsies\n"
   ]
  },
  {
   "cell_type": "code",
   "execution_count": null,
   "metadata": {},
   "outputs": [
    {
     "data": {
      "text/plain": [
       "7      1\n",
       "8      1\n",
       "2      2\n",
       "4      2\n",
       "11     2\n",
       "0      3\n",
       "5      3\n",
       "9     34\n",
       "3     35\n",
       "1     43\n",
       "6     53\n",
       "10    53\n",
       "dtype: int64"
      ]
     },
     "execution_count": 22,
     "metadata": {},
     "output_type": "execute_result"
    }
   ],
   "source": [
    "attr = pd.Series([3,43,2,35,2,3,53,1,1,34,53,2])\n",
    "sorted_indices = attr.sort_values().index\n",
    "attr.loc[sorted_indices]"
   ]
  },
  {
   "cell_type": "code",
   "execution_count": null,
   "metadata": {},
   "outputs": [
    {
     "data": {
      "text/plain": [
       "1      2\n",
       "2      3\n",
       "3      4\n",
       "4      6\n",
       "5      7\n",
       "6      8\n",
       "7     22\n",
       "8     64\n",
       "9    745\n",
       "dtype: int64"
      ]
     },
     "execution_count": 25,
     "metadata": {},
     "output_type": "execute_result"
    }
   ],
   "source": [
    "attr_sorted[1:attr_sorted.size]"
   ]
  }
 ],
 "metadata": {
  "kernelspec": {
   "display_name": "Python 3",
   "language": "python",
   "name": "python3"
  },
  "language_info": {
   "codemirror_mode": {
    "name": "ipython",
    "version": 3
   },
   "file_extension": ".py",
   "mimetype": "text/x-python",
   "name": "python",
   "nbconvert_exporter": "python",
   "pygments_lexer": "ipython3",
   "version": "3.12.0"
  }
 },
 "nbformat": 4,
 "nbformat_minor": 2
}
